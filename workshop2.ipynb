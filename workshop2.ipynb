{
  "nbformat": 4,
  "nbformat_minor": 0,
  "metadata": {
    "colab": {
      "provenance": []
    },
    "kernelspec": {
      "name": "python3",
      "display_name": "Python 3"
    },
    "language_info": {
      "name": "python"
    }
  },
  "cells": [
    {
      "cell_type": "code",
      "source": [
        "print(type([]))"
      ],
      "metadata": {
        "colab": {
          "base_uri": "https://localhost:8080/"
        },
        "id": "-K56Q_6n5lAb",
        "outputId": "97bfd38a-ed6b-4520-941a-8fa66b807fe0"
      },
      "execution_count": null,
      "outputs": [
        {
          "output_type": "stream",
          "name": "stdout",
          "text": [
            "<class 'list'>\n"
          ]
        }
      ]
    },
    {
      "cell_type": "code",
      "source": [
        "class sample:\n",
        "  pass"
      ],
      "metadata": {
        "id": "Ql7gm_9-6I3u"
      },
      "execution_count": null,
      "outputs": []
    },
    {
      "cell_type": "code",
      "source": [
        "x=sample()"
      ],
      "metadata": {
        "id": "lUTQVCg66gvf"
      },
      "execution_count": null,
      "outputs": []
    },
    {
      "cell_type": "code",
      "source": [
        "print(type(x))"
      ],
      "metadata": {
        "colab": {
          "base_uri": "https://localhost:8080/"
        },
        "id": "q2kH9fbS6wNf",
        "outputId": "11b1ec89-cc7e-477f-fa59-741922218826"
      },
      "execution_count": null,
      "outputs": [
        {
          "output_type": "stream",
          "name": "stdout",
          "text": [
            "<class '__main__.sample'>\n"
          ]
        }
      ]
    },
    {
      "cell_type": "code",
      "source": [
        "class Dog:\n",
        "  def __init__(self,breed):\n",
        "    self.breed = breed"
      ],
      "metadata": {
        "id": "Nit1t0p864W7"
      },
      "execution_count": null,
      "outputs": []
    },
    {
      "cell_type": "code",
      "source": [
        "tommy = Dog(breed=\"labra\")\n",
        "tyson = Dog(breed=\"husky\")\n"
      ],
      "metadata": {
        "id": "wA1eZP2M7ZZx"
      },
      "execution_count": null,
      "outputs": []
    },
    {
      "cell_type": "code",
      "source": [
        "tommy.breed"
      ],
      "metadata": {
        "colab": {
          "base_uri": "https://localhost:8080/",
          "height": 35
        },
        "id": "zj7XdS3x8eU4",
        "outputId": "db784ff2-e9d4-4bc8-9100-39740fbd119b"
      },
      "execution_count": null,
      "outputs": [
        {
          "output_type": "execute_result",
          "data": {
            "text/plain": [
              "'labra'"
            ],
            "application/vnd.google.colaboratory.intrinsic+json": {
              "type": "string"
            }
          },
          "metadata": {},
          "execution_count": 9
        }
      ]
    },
    {
      "cell_type": "code",
      "source": [
        "tyson.breed"
      ],
      "metadata": {
        "colab": {
          "base_uri": "https://localhost:8080/",
          "height": 35
        },
        "id": "Drwj7oWi8ueA",
        "outputId": "3df87ce6-d2ac-4398-cd27-a412b8c9284c"
      },
      "execution_count": null,
      "outputs": [
        {
          "output_type": "execute_result",
          "data": {
            "text/plain": [
              "'husky'"
            ],
            "application/vnd.google.colaboratory.intrinsic+json": {
              "type": "string"
            }
          },
          "metadata": {},
          "execution_count": 10
        }
      ]
    },
    {
      "cell_type": "code",
      "source": [
        "class Dog:\n",
        "  spec='Mammal'\n",
        "  def __init__(self,breed,name):\n",
        "    self.breed = breed\n",
        "    self.name = name"
      ],
      "metadata": {
        "id": "hmqvQ52U8zIp"
      },
      "execution_count": 12,
      "outputs": []
    },
    {
      "cell_type": "code",
      "source": [
        "jer = Dog(\"Lab\",\"Jerry\")"
      ],
      "metadata": {
        "id": "otCW1eyQ9o-7"
      },
      "execution_count": 13,
      "outputs": []
    },
    {
      "cell_type": "code",
      "source": [
        "jer.name"
      ],
      "metadata": {
        "colab": {
          "base_uri": "https://localhost:8080/",
          "height": 35
        },
        "id": "1RPTDyVU-Sod",
        "outputId": "091c5efa-c9a4-416e-9d00-50e14a836a5a"
      },
      "execution_count": 14,
      "outputs": [
        {
          "output_type": "execute_result",
          "data": {
            "text/plain": [
              "'Jerry'"
            ],
            "application/vnd.google.colaboratory.intrinsic+json": {
              "type": "string"
            }
          },
          "metadata": {},
          "execution_count": 14
        }
      ]
    },
    {
      "cell_type": "code",
      "source": [
        "jer.breed"
      ],
      "metadata": {
        "colab": {
          "base_uri": "https://localhost:8080/",
          "height": 35
        },
        "id": "TSLH-EWY-VgV",
        "outputId": "8405f61b-9a04-4379-9830-9420b6d4ed18"
      },
      "execution_count": 15,
      "outputs": [
        {
          "output_type": "execute_result",
          "data": {
            "text/plain": [
              "'Lab'"
            ],
            "application/vnd.google.colaboratory.intrinsic+json": {
              "type": "string"
            }
          },
          "metadata": {},
          "execution_count": 15
        }
      ]
    },
    {
      "cell_type": "code",
      "source": [
        "jer.spec\n"
      ],
      "metadata": {
        "colab": {
          "base_uri": "https://localhost:8080/",
          "height": 35
        },
        "id": "CVuHApTas8dM",
        "outputId": "90d12a3d-b9f3-4236-e8d7-39eef69ddf9d"
      },
      "execution_count": 16,
      "outputs": [
        {
          "output_type": "execute_result",
          "data": {
            "text/plain": [
              "'Mammal'"
            ],
            "application/vnd.google.colaboratory.intrinsic+json": {
              "type": "string"
            }
          },
          "metadata": {},
          "execution_count": 16
        }
      ]
    },
    {
      "cell_type": "code",
      "source": [
        "class circle:\n",
        "  pi = 3.14\n",
        "  def __init__(self,radius=1):\n",
        "    self.radius = radius\n",
        "    self.area = area = radius*radius*circle.pi\n",
        "  def setRadius(self,new):\n",
        "    self.radius=new\n",
        "    self.area=new*new*self.pi\n",
        "  def circumference(self):\n",
        "    return self.radius*self.pi*2"
      ],
      "metadata": {
        "id": "_hZEHehC-Y8j"
      },
      "execution_count": 27,
      "outputs": []
    },
    {
      "cell_type": "code",
      "source": [
        "c1=circle()\n",
        "print('the radius is ',c1.radius)\n",
        "print('the area is ',c1.area)\n",
        "print('The circumference is ',c1.circumference())"
      ],
      "metadata": {
        "colab": {
          "base_uri": "https://localhost:8080/"
        },
        "id": "za4fjrcybr61",
        "outputId": "341f3f69-248d-4521-8b44-fac264069377"
      },
      "execution_count": 23,
      "outputs": [
        {
          "output_type": "stream",
          "name": "stdout",
          "text": [
            "the radius is  1\n",
            "the area is  3.14\n",
            "The circumference is  6.28\n"
          ]
        }
      ]
    },
    {
      "cell_type": "code",
      "source": [
        "c1.setRadius(4)\n",
        "print('the radius is ',c1.radius)\n",
        "print('the area is ',c1.area)"
      ],
      "metadata": {
        "colab": {
          "base_uri": "https://localhost:8080/"
        },
        "id": "ovEWAcOlb1VL",
        "outputId": "813eb226-fde3-4ff2-f2a0-03adb74906fd"
      },
      "execution_count": 29,
      "outputs": [
        {
          "output_type": "stream",
          "name": "stdout",
          "text": [
            "the radius is  4\n",
            "the area is  50.24\n"
          ]
        }
      ]
    },
    {
      "cell_type": "code",
      "source": [
        "class track:\n",
        "  def __init__(self,cor1,cor2):\n",
        "    self.cor1=cor1\n",
        "    self.cor2=cor2\n",
        "  def distance(self):\n",
        "    x1,y1=self.cor1\n",
        "    x2,y2=self.cor2\n",
        "    return ((x2-x1)**2 + (y2-y1)**2)**0.5\n",
        "  def slope(self):\n",
        "    x1,y1=self.cor1\n",
        "    x2,y2=self.cor2\n",
        "    return (y2-y1)/(x2-x1)"
      ],
      "metadata": {
        "id": "gIIbamAFf6il"
      },
      "execution_count": 30,
      "outputs": []
    },
    {
      "cell_type": "code",
      "source": [
        "co1=(12,9)\n",
        "co2=(3,8)"
      ],
      "metadata": {
        "id": "TLuh4Cecibb2"
      },
      "execution_count": 31,
      "outputs": []
    },
    {
      "cell_type": "code",
      "source": [
        "find=track(co1,co2)\n"
      ],
      "metadata": {
        "id": "S8StoVociiyo"
      },
      "execution_count": 32,
      "outputs": []
    },
    {
      "cell_type": "code",
      "source": [
        "find.distance()"
      ],
      "metadata": {
        "colab": {
          "base_uri": "https://localhost:8080/"
        },
        "id": "dO4WnfEViuIr",
        "outputId": "ea4ce9a4-d977-438a-e6e6-d57e524a30e8"
      },
      "execution_count": 33,
      "outputs": [
        {
          "output_type": "execute_result",
          "data": {
            "text/plain": [
              "9.055385138137417"
            ]
          },
          "metadata": {},
          "execution_count": 33
        }
      ]
    },
    {
      "cell_type": "code",
      "source": [
        "find.slope()\n"
      ],
      "metadata": {
        "colab": {
          "base_uri": "https://localhost:8080/"
        },
        "id": "_epETQZbi0NX",
        "outputId": "3fac0f92-dd4e-44b8-9c60-064cfaf364a0"
      },
      "execution_count": 34,
      "outputs": [
        {
          "output_type": "execute_result",
          "data": {
            "text/plain": [
              "0.1111111111111111"
            ]
          },
          "metadata": {},
          "execution_count": 34
        }
      ]
    },
    {
      "cell_type": "code",
      "source": [
        "class account:\n",
        "  def __init__(self,owner,balance):\n",
        "    self.owner=owner\n",
        "    self.balance=balance\n",
        "  def __str__(self):\n",
        "    return f'Account owner:      {self.owner}\\n Account Balance:      ${self.balance}'\n",
        "  \n",
        "  def deposit(self,dep):\n",
        "    self.balance += dep\n",
        "    print(\"Deposit accepted\")\n",
        "\n",
        "  def withdraw(self,wit):\n",
        "    if self.balance >= wit:\n",
        "      self.balance -= wit\n",
        "      print(\"Withdraw accepted\")\n",
        "    else:\n",
        "      print(\"\\n Funds not available\")"
      ],
      "metadata": {
        "id": "mwtyrQqSjYCt"
      },
      "execution_count": 1,
      "outputs": []
    },
    {
      "cell_type": "code",
      "source": [
        "acc1=account('Rahul',20000)"
      ],
      "metadata": {
        "id": "Zm0eyuLlnpW7"
      },
      "execution_count": 3,
      "outputs": []
    },
    {
      "cell_type": "code",
      "source": [
        "print(acc1)"
      ],
      "metadata": {
        "colab": {
          "base_uri": "https://localhost:8080/"
        },
        "id": "44u7xkMsoTPk",
        "outputId": "ea5070a3-309e-418f-dce8-6f6e535246c9"
      },
      "execution_count": 4,
      "outputs": [
        {
          "output_type": "stream",
          "name": "stdout",
          "text": [
            "Account owner:      Rahul\n",
            " Account Balance:      $20000\n"
          ]
        }
      ]
    },
    {
      "cell_type": "code",
      "source": [
        "acc1.owner"
      ],
      "metadata": {
        "colab": {
          "base_uri": "https://localhost:8080/",
          "height": 35
        },
        "id": "0W0Xs0TZoiPK",
        "outputId": "e64ab34e-fec8-4688-f6dc-281e491c0d55"
      },
      "execution_count": 5,
      "outputs": [
        {
          "output_type": "execute_result",
          "data": {
            "text/plain": [
              "'Rahul'"
            ],
            "application/vnd.google.colaboratory.intrinsic+json": {
              "type": "string"
            }
          },
          "metadata": {},
          "execution_count": 5
        }
      ]
    },
    {
      "cell_type": "code",
      "source": [
        "acc1.balance"
      ],
      "metadata": {
        "colab": {
          "base_uri": "https://localhost:8080/"
        },
        "id": "aFoEmj3xoolf",
        "outputId": "b03a2d65-489b-48a8-8a88-0a8284867939"
      },
      "execution_count": 6,
      "outputs": [
        {
          "output_type": "execute_result",
          "data": {
            "text/plain": [
              "20000"
            ]
          },
          "metadata": {},
          "execution_count": 6
        }
      ]
    },
    {
      "cell_type": "code",
      "source": [
        "acc1.deposit(5000)"
      ],
      "metadata": {
        "colab": {
          "base_uri": "https://localhost:8080/"
        },
        "id": "r6_2yR-aotYG",
        "outputId": "a27bb14a-b68b-4118-b51d-89ffb98716d3"
      },
      "execution_count": 7,
      "outputs": [
        {
          "output_type": "stream",
          "name": "stdout",
          "text": [
            "Deposit accepted\n"
          ]
        }
      ]
    },
    {
      "cell_type": "code",
      "source": [
        "acc1.balance"
      ],
      "metadata": {
        "colab": {
          "base_uri": "https://localhost:8080/"
        },
        "id": "CqA-w6ZOo0HH",
        "outputId": "94ebea72-4208-4c77-bdae-6c833ce89bdb"
      },
      "execution_count": 8,
      "outputs": [
        {
          "output_type": "execute_result",
          "data": {
            "text/plain": [
              "25000"
            ]
          },
          "metadata": {},
          "execution_count": 8
        }
      ]
    },
    {
      "cell_type": "code",
      "source": [
        "acc1.withdraw(30000)"
      ],
      "metadata": {
        "colab": {
          "base_uri": "https://localhost:8080/"
        },
        "id": "AAfoXaEko5Q9",
        "outputId": "bb2acd72-a7d2-4a6e-a74a-095398bf1229"
      },
      "execution_count": 9,
      "outputs": [
        {
          "output_type": "stream",
          "name": "stdout",
          "text": [
            "\n",
            " Funds not available\n"
          ]
        }
      ]
    },
    {
      "cell_type": "code",
      "source": [
        "acc1.withdraw(16000)"
      ],
      "metadata": {
        "colab": {
          "base_uri": "https://localhost:8080/"
        },
        "id": "Rj5GCo8rpt_U",
        "outputId": "d012ee50-63cf-4a03-edfc-dfa75a74950a"
      },
      "execution_count": 10,
      "outputs": [
        {
          "output_type": "stream",
          "name": "stdout",
          "text": [
            "Withdraw accepted\n"
          ]
        }
      ]
    },
    {
      "cell_type": "code",
      "source": [
        "acc1.balance"
      ],
      "metadata": {
        "colab": {
          "base_uri": "https://localhost:8080/"
        },
        "id": "yhQxVqPCp02k",
        "outputId": "fc94b25f-ad16-4379-f889-1d8e42e9a382"
      },
      "execution_count": 11,
      "outputs": [
        {
          "output_type": "execute_result",
          "data": {
            "text/plain": [
              "9000"
            ]
          },
          "metadata": {},
          "execution_count": 11
        }
      ]
    }
  ]
}